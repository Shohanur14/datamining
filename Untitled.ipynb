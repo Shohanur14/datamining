{
 "cells": [
  {
   "cell_type": "code",
   "execution_count": 26,
   "metadata": {},
   "outputs": [],
   "source": [
    "import pandas as pd"
   ]
  },
  {
   "cell_type": "code",
   "execution_count": 27,
   "metadata": {},
   "outputs": [],
   "source": [
    "dataframe=pd.read_csv(\"rainfall.csv\")\n"
   ]
  },
  {
   "cell_type": "code",
   "execution_count": 28,
   "metadata": {},
   "outputs": [
    {
     "name": "stdout",
     "output_type": "stream",
     "text": [
      "   day  pressure  maxtemp  temparature  mintemp  dewpoint  humidity  cloud  \\\n",
      "0    1    1025.9     19.9         18.3     16.8      13.1        72     49   \n",
      "1    2    1022.0     21.7         18.9     17.2      15.6        81     83   \n",
      "2    3    1019.7     20.3         19.3     18.0      18.4        95     91   \n",
      "3    4    1018.9     22.3         20.6     19.1      18.8        90     88   \n",
      "4    5    1015.9     21.3         20.7     20.2      19.9        95     81   \n",
      "5    6    1018.8     24.3         20.9     19.2      18.0        84     51   \n",
      "6    7    1021.8     21.4         18.8     17.0      15.0        79     56   \n",
      "7    8    1020.8     21.0         18.4     16.5      14.4        78     28   \n",
      "8    9    1020.6     18.9         18.1     17.1      14.3        78     79   \n",
      "9   10    1017.5     18.5         18.0     17.2      15.5        85     91   \n",
      "\n",
      "  rainfall  sunshine  winddirection  windspeed  \n",
      "0      yes       9.3           80.0       26.3  \n",
      "1      yes       0.6           50.0       15.3  \n",
      "2      yes       0.0           40.0       14.2  \n",
      "3      yes       1.0           50.0       16.9  \n",
      "4      yes       0.0           40.0       13.7  \n",
      "5      yes       7.7           20.0       14.5  \n",
      "6       no       3.4           30.0       21.5  \n",
      "7       no       7.7           60.0       14.3  \n",
      "8       no       3.3           70.0       39.3  \n",
      "9      yes       0.0           70.0       37.7  \n"
     ]
    }
   ],
   "source": [
    "print(dataframe.head(10))"
   ]
  },
  {
   "cell_type": "code",
   "execution_count": 29,
   "metadata": {},
   "outputs": [
    {
     "name": "stdout",
     "output_type": "stream",
     "text": [
      "     day  pressure  maxtemp  temparature  mintemp  dewpoint  humidity  cloud  \\\n",
      "356   22    1020.3     20.6         19.9     18.7      17.6        87     88   \n",
      "357   23    1017.8     22.3         21.1     19.8      19.6        91     79   \n",
      "358   24    1016.8     24.7         22.3     21.1      20.7        91     70   \n",
      "359   25    1020.4     21.4         18.2     16.1      13.5        75     89   \n",
      "360   26    1020.6     19.7         17.9     16.9      13.3        74     87   \n",
      "361   27    1022.7     18.8         17.7     16.9      15.0        84     90   \n",
      "362   28    1026.6     18.6         17.3     16.3      12.8        75     85   \n",
      "363   29    1025.9     18.9         17.7     16.4      13.3        75     78   \n",
      "364   30    1025.3     19.2         17.3     15.2      13.3        78     86   \n",
      "365   31    1026.4     20.5         17.8     15.5      13.0        74     66   \n",
      "\n",
      "    rainfall  sunshine  winddirection  windspeed  \n",
      "356      yes       0.3           60.0       27.3  \n",
      "357      yes       0.0           40.0       15.0  \n",
      "358      yes       6.0           40.0        9.4  \n",
      "359      yes       0.7           10.0       27.6  \n",
      "360       no       0.6           30.0       21.6  \n",
      "361      yes       0.0           30.0       18.4  \n",
      "362      yes       1.0           20.0       25.9  \n",
      "363      yes       4.6           70.0       33.4  \n",
      "364      yes       1.2           20.0       20.9  \n",
      "365       no       5.7           20.0       23.3  \n"
     ]
    }
   ],
   "source": [
    "print(dataframe.tail(10))\n"
   ]
  },
  {
   "cell_type": "code",
   "execution_count": 30,
   "metadata": {},
   "outputs": [
    {
     "name": "stdout",
     "output_type": "stream",
     "text": [
      "Index(['day', 'pressure', 'maxtemp', 'temparature', 'mintemp', 'dewpoint',\n",
      "       'humidity', 'cloud', 'rainfall', 'sunshine', 'winddirection',\n",
      "       'windspeed'],\n",
      "      dtype='object')\n"
     ]
    }
   ],
   "source": [
    "print(dataframe.columns)"
   ]
  },
  {
   "cell_type": "code",
   "execution_count": 31,
   "metadata": {},
   "outputs": [
    {
     "name": "stdout",
     "output_type": "stream",
     "text": [
      "day                int64\n",
      "pressure         float64\n",
      "maxtemp          float64\n",
      "temparature      float64\n",
      "mintemp          float64\n",
      "dewpoint         float64\n",
      "humidity           int64\n",
      "cloud              int64\n",
      "rainfall          object\n",
      "sunshine         float64\n",
      "winddirection    float64\n",
      "windspeed        float64\n",
      "dtype: object\n"
     ]
    }
   ],
   "source": [
    "print(dataframe.dtypes)"
   ]
  },
  {
   "cell_type": "code",
   "execution_count": 32,
   "metadata": {},
   "outputs": [
    {
     "data": {
      "text/html": [
       "<div>\n",
       "<style scoped>\n",
       "    .dataframe tbody tr th:only-of-type {\n",
       "        vertical-align: middle;\n",
       "    }\n",
       "\n",
       "    .dataframe tbody tr th {\n",
       "        vertical-align: top;\n",
       "    }\n",
       "\n",
       "    .dataframe thead th {\n",
       "        text-align: right;\n",
       "    }\n",
       "</style>\n",
       "<table border=\"1\" class=\"dataframe\">\n",
       "  <thead>\n",
       "    <tr style=\"text-align: right;\">\n",
       "      <th></th>\n",
       "      <th>day</th>\n",
       "      <th>pressure</th>\n",
       "      <th>maxtemp</th>\n",
       "      <th>temparature</th>\n",
       "      <th>mintemp</th>\n",
       "      <th>dewpoint</th>\n",
       "      <th>humidity</th>\n",
       "      <th>cloud</th>\n",
       "      <th>rainfall</th>\n",
       "      <th>sunshine</th>\n",
       "      <th>winddirection</th>\n",
       "      <th>windspeed</th>\n",
       "    </tr>\n",
       "  </thead>\n",
       "  <tbody>\n",
       "    <tr>\n",
       "      <th>0</th>\n",
       "      <td>1</td>\n",
       "      <td>1025.9</td>\n",
       "      <td>19.9</td>\n",
       "      <td>18.3</td>\n",
       "      <td>16.8</td>\n",
       "      <td>13.1</td>\n",
       "      <td>72</td>\n",
       "      <td>49</td>\n",
       "      <td>yes</td>\n",
       "      <td>9.3</td>\n",
       "      <td>80.0</td>\n",
       "      <td>26.3</td>\n",
       "    </tr>\n",
       "    <tr>\n",
       "      <th>1</th>\n",
       "      <td>2</td>\n",
       "      <td>1022.0</td>\n",
       "      <td>21.7</td>\n",
       "      <td>18.9</td>\n",
       "      <td>17.2</td>\n",
       "      <td>15.6</td>\n",
       "      <td>81</td>\n",
       "      <td>83</td>\n",
       "      <td>yes</td>\n",
       "      <td>0.6</td>\n",
       "      <td>50.0</td>\n",
       "      <td>15.3</td>\n",
       "    </tr>\n",
       "    <tr>\n",
       "      <th>2</th>\n",
       "      <td>3</td>\n",
       "      <td>1019.7</td>\n",
       "      <td>20.3</td>\n",
       "      <td>19.3</td>\n",
       "      <td>18.0</td>\n",
       "      <td>18.4</td>\n",
       "      <td>95</td>\n",
       "      <td>91</td>\n",
       "      <td>yes</td>\n",
       "      <td>0.0</td>\n",
       "      <td>40.0</td>\n",
       "      <td>14.2</td>\n",
       "    </tr>\n",
       "    <tr>\n",
       "      <th>3</th>\n",
       "      <td>4</td>\n",
       "      <td>1018.9</td>\n",
       "      <td>22.3</td>\n",
       "      <td>20.6</td>\n",
       "      <td>19.1</td>\n",
       "      <td>18.8</td>\n",
       "      <td>90</td>\n",
       "      <td>88</td>\n",
       "      <td>yes</td>\n",
       "      <td>1.0</td>\n",
       "      <td>50.0</td>\n",
       "      <td>16.9</td>\n",
       "    </tr>\n",
       "    <tr>\n",
       "      <th>4</th>\n",
       "      <td>5</td>\n",
       "      <td>1015.9</td>\n",
       "      <td>21.3</td>\n",
       "      <td>20.7</td>\n",
       "      <td>20.2</td>\n",
       "      <td>19.9</td>\n",
       "      <td>95</td>\n",
       "      <td>81</td>\n",
       "      <td>yes</td>\n",
       "      <td>0.0</td>\n",
       "      <td>40.0</td>\n",
       "      <td>13.7</td>\n",
       "    </tr>\n",
       "    <tr>\n",
       "      <th>...</th>\n",
       "      <td>...</td>\n",
       "      <td>...</td>\n",
       "      <td>...</td>\n",
       "      <td>...</td>\n",
       "      <td>...</td>\n",
       "      <td>...</td>\n",
       "      <td>...</td>\n",
       "      <td>...</td>\n",
       "      <td>...</td>\n",
       "      <td>...</td>\n",
       "      <td>...</td>\n",
       "      <td>...</td>\n",
       "    </tr>\n",
       "    <tr>\n",
       "      <th>361</th>\n",
       "      <td>27</td>\n",
       "      <td>1022.7</td>\n",
       "      <td>18.8</td>\n",
       "      <td>17.7</td>\n",
       "      <td>16.9</td>\n",
       "      <td>15.0</td>\n",
       "      <td>84</td>\n",
       "      <td>90</td>\n",
       "      <td>yes</td>\n",
       "      <td>0.0</td>\n",
       "      <td>30.0</td>\n",
       "      <td>18.4</td>\n",
       "    </tr>\n",
       "    <tr>\n",
       "      <th>362</th>\n",
       "      <td>28</td>\n",
       "      <td>1026.6</td>\n",
       "      <td>18.6</td>\n",
       "      <td>17.3</td>\n",
       "      <td>16.3</td>\n",
       "      <td>12.8</td>\n",
       "      <td>75</td>\n",
       "      <td>85</td>\n",
       "      <td>yes</td>\n",
       "      <td>1.0</td>\n",
       "      <td>20.0</td>\n",
       "      <td>25.9</td>\n",
       "    </tr>\n",
       "    <tr>\n",
       "      <th>363</th>\n",
       "      <td>29</td>\n",
       "      <td>1025.9</td>\n",
       "      <td>18.9</td>\n",
       "      <td>17.7</td>\n",
       "      <td>16.4</td>\n",
       "      <td>13.3</td>\n",
       "      <td>75</td>\n",
       "      <td>78</td>\n",
       "      <td>yes</td>\n",
       "      <td>4.6</td>\n",
       "      <td>70.0</td>\n",
       "      <td>33.4</td>\n",
       "    </tr>\n",
       "    <tr>\n",
       "      <th>364</th>\n",
       "      <td>30</td>\n",
       "      <td>1025.3</td>\n",
       "      <td>19.2</td>\n",
       "      <td>17.3</td>\n",
       "      <td>15.2</td>\n",
       "      <td>13.3</td>\n",
       "      <td>78</td>\n",
       "      <td>86</td>\n",
       "      <td>yes</td>\n",
       "      <td>1.2</td>\n",
       "      <td>20.0</td>\n",
       "      <td>20.9</td>\n",
       "    </tr>\n",
       "    <tr>\n",
       "      <th>365</th>\n",
       "      <td>31</td>\n",
       "      <td>1026.4</td>\n",
       "      <td>20.5</td>\n",
       "      <td>17.8</td>\n",
       "      <td>15.5</td>\n",
       "      <td>13.0</td>\n",
       "      <td>74</td>\n",
       "      <td>66</td>\n",
       "      <td>no</td>\n",
       "      <td>5.7</td>\n",
       "      <td>20.0</td>\n",
       "      <td>23.3</td>\n",
       "    </tr>\n",
       "  </tbody>\n",
       "</table>\n",
       "<p>366 rows × 12 columns</p>\n",
       "</div>"
      ],
      "text/plain": [
       "     day  pressure  maxtemp  temparature  mintemp  dewpoint  humidity  cloud  \\\n",
       "0      1    1025.9     19.9         18.3     16.8      13.1        72     49   \n",
       "1      2    1022.0     21.7         18.9     17.2      15.6        81     83   \n",
       "2      3    1019.7     20.3         19.3     18.0      18.4        95     91   \n",
       "3      4    1018.9     22.3         20.6     19.1      18.8        90     88   \n",
       "4      5    1015.9     21.3         20.7     20.2      19.9        95     81   \n",
       "..   ...       ...      ...          ...      ...       ...       ...    ...   \n",
       "361   27    1022.7     18.8         17.7     16.9      15.0        84     90   \n",
       "362   28    1026.6     18.6         17.3     16.3      12.8        75     85   \n",
       "363   29    1025.9     18.9         17.7     16.4      13.3        75     78   \n",
       "364   30    1025.3     19.2         17.3     15.2      13.3        78     86   \n",
       "365   31    1026.4     20.5         17.8     15.5      13.0        74     66   \n",
       "\n",
       "    rainfall  sunshine  winddirection  windspeed  \n",
       "0        yes       9.3           80.0       26.3  \n",
       "1        yes       0.6           50.0       15.3  \n",
       "2        yes       0.0           40.0       14.2  \n",
       "3        yes       1.0           50.0       16.9  \n",
       "4        yes       0.0           40.0       13.7  \n",
       "..       ...       ...            ...        ...  \n",
       "361      yes       0.0           30.0       18.4  \n",
       "362      yes       1.0           20.0       25.9  \n",
       "363      yes       4.6           70.0       33.4  \n",
       "364      yes       1.2           20.0       20.9  \n",
       "365       no       5.7           20.0       23.3  \n",
       "\n",
       "[366 rows x 12 columns]"
      ]
     },
     "execution_count": 32,
     "metadata": {},
     "output_type": "execute_result"
    }
   ],
   "source": [
    "df = dataframe.replace('sunshine', float(\"nan\"))\n",
    "df"
   ]
  },
  {
   "cell_type": "code",
   "execution_count": 33,
   "metadata": {},
   "outputs": [
    {
     "name": "stdout",
     "output_type": "stream",
     "text": [
      "     day  pressure  maxtemp  temparature  mintemp  dewpoint  humidity  cloud  \\\n",
      "0      1    1025.9     19.9         18.3     16.8      13.1        72     49   \n",
      "1      2    1022.0     21.7         18.9     17.2      15.6        81     83   \n",
      "2      3    1019.7     20.3         19.3     18.0      18.4        95     91   \n",
      "3      4    1018.9     22.3         20.6     19.1      18.8        90     88   \n",
      "4      5    1015.9     21.3         20.7     20.2      19.9        95     81   \n",
      "..   ...       ...      ...          ...      ...       ...       ...    ...   \n",
      "361   27    1022.7     18.8         17.7     16.9      15.0        84     90   \n",
      "362   28    1026.6     18.6         17.3     16.3      12.8        75     85   \n",
      "363   29    1025.9     18.9         17.7     16.4      13.3        75     78   \n",
      "364   30    1025.3     19.2         17.3     15.2      13.3        78     86   \n",
      "365   31    1026.4     20.5         17.8     15.5      13.0        74     66   \n",
      "\n",
      "    rainfall  sunshine  winddirection  windspeed  \n",
      "0        yes       9.3           80.0       26.3  \n",
      "1        yes       0.6           50.0       15.3  \n",
      "2        yes       0.0           40.0       14.2  \n",
      "3        yes       1.0           50.0       16.9  \n",
      "4        yes       0.0           40.0       13.7  \n",
      "..       ...       ...            ...        ...  \n",
      "361      yes       0.0           30.0       18.4  \n",
      "362      yes       1.0           20.0       25.9  \n",
      "363      yes       4.6           70.0       33.4  \n",
      "364      yes       1.2           20.0       20.9  \n",
      "365       no       5.7           20.0       23.3  \n",
      "\n",
      "[365 rows x 12 columns]\n"
     ]
    }
   ],
   "source": [
    "cdf = df.dropna()\n",
    "print(cdf)"
   ]
  },
  {
   "cell_type": "code",
   "execution_count": 34,
   "metadata": {},
   "outputs": [
    {
     "name": "stdout",
     "output_type": "stream",
     "text": [
      "     cloud  sunshine\n",
      "0       49       9.3\n",
      "1       83       0.6\n",
      "2       91       0.0\n",
      "3       88       1.0\n",
      "4       81       0.0\n",
      "..     ...       ...\n",
      "361     90       0.0\n",
      "362     85       1.0\n",
      "363     78       4.6\n",
      "364     86       1.2\n",
      "365     66       5.7\n",
      "\n",
      "[365 rows x 2 columns]\n"
     ]
    }
   ],
   "source": [
    "df1=cdf.drop([\"day\",\"pressure\",\"maxtemp\",\"temparature\",\"mintemp\",\"dewpoint\",\"humidity\",\"rainfall\",\"winddirection\",\"windspeed\"], axis=1)\n",
    "print(df1)"
   ]
  },
  {
   "cell_type": "code",
   "execution_count": 35,
   "metadata": {},
   "outputs": [
    {
     "data": {
      "image/png": "[encoded data removed]",
      "text/plain": [
       "<Figure size 432x288 with 1 Axes>"
      ]
     },
     "metadata": {
      "needs_background": "light"
     },
     "output_type": "display_data"
    }
   ],
   "source": [
    "import matplotlib.pyplot as plt\n",
    "plt.scatter(cdf.cloud,cdf.sunshine)\n",
    "plt.xlabel('cloud')\n",
    "plt.ylabel('sunshine')\n",
    "plt.show()"
   ]
  },
  {
   "cell_type": "code",
   "execution_count": 36,
   "metadata": {},
   "outputs": [
    {
     "name": "stdout",
     "output_type": "stream",
     "text": [
      "     cloud  sunshine\n",
      "0       49       9.3\n",
      "1       83       0.6\n",
      "2       91       0.0\n",
      "3       88       1.0\n",
      "4       81       0.0\n",
      "..     ...       ...\n",
      "361     90       0.0\n",
      "362     85       1.0\n",
      "363     78       4.6\n",
      "364     86       1.2\n",
      "365     66       5.7\n",
      "\n",
      "[365 rows x 2 columns]\n"
     ]
    }
   ],
   "source": [
    "df1=cdf.drop([\"day\",\"pressure\",\"maxtemp\",\"temparature\",\"mintemp\",\"dewpoint\",\"humidity\",\"rainfall\",\"winddirection\",\"windspeed\"], axis=1)\n",
    "print(df1)"
   ]
  },
  {
   "cell_type": "code",
   "execution_count": 37,
   "metadata": {},
   "outputs": [
    {
     "name": "stdout",
     "output_type": "stream",
     "text": [
      "covariance:\n",
      "-72.99981935872347\n"
     ]
    }
   ],
   "source": [
    "import numpy as np\n",
    "a=np.cov(cdf.cloud,cdf.sunshine)\n",
    "print(\"covariance:\")\n",
    "print(a[0,1])\n"
   ]
  },
  {
   "cell_type": "code",
   "execution_count": 48,
   "metadata": {},
   "outputs": [],
   "source": [
    "def pearson(x,y):\n",
    " correlation_matrix=np.corrcoef(x,y)\n",
    " return correlation_matrix[0,1]\n",
    "r = pearson(df.cloud,df.sunshine)"
   ]
  },
  {
   "cell_type": "code",
   "execution_count": 50,
   "metadata": {},
   "outputs": [
    {
     "name": "stdout",
     "output_type": "stream",
     "text": [
      "correlation: \n",
      "-0.8483335835297107\n",
      "This means that negative covariance and corrleation so cloud cover and sunshine are inversely proportional\n"
     ]
    }
   ],
   "source": [
    "print(\"correlation: \")\n",
    "print(r)\n",
    "print(\"This means that negative covariance and corrleation so cloud cover and sunshine are inversely proportional\")"
   ]
  },
  {
   "cell_type": "code",
   "execution_count": null,
   "metadata": {},
   "outputs": [],
   "source": []
  }
 ],
 "metadata": {
  "kernelspec": {
   "display_name": "Python 3",
   "language": "python",
   "name": "python3"
  },
  "language_info": {
   "codemirror_mode": {
    "name": "ipython",
    "version": 3
   },
   "file_extension": ".py",
   "mimetype": "text/x-python",
   "name": "python",
   "nbconvert_exporter": "python",
   "pygments_lexer": "ipython3",
   "version": "3.8.5"
  }
 },
 "nbformat": 4,
 "nbformat_minor": 4
}
